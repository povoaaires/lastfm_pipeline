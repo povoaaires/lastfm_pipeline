{
 "cells": [
  {
   "attachments": {},
   "cell_type": "markdown",
   "metadata": {},
   "source": [
    "Importação das Libraries"
   ]
  },
  {
   "cell_type": "code",
   "execution_count": null,
   "metadata": {},
   "outputs": [],
   "source": [
    "import os\n",
    "from dotenv import load_dotenv\n",
    "import json\n",
    "import exctract.main as ex"
   ]
  },
  {
   "cell_type": "code",
   "execution_count": 1,
   "metadata": {},
   "outputs": [
    {
     "name": "stdout",
     "output_type": "stream",
     "text": [
      "['chart.gettopartists', 'chart.gettoptracks', 'chart.gettoptags']\n"
     ]
    }
   ],
   "source": [
    "\n",
    "\n",
    "\n",
    "load_dotenv()\n",
    "\n",
    "key_api = os.getenv(\"api_key\")\n",
    "app_api = os.getenv(\"app_project\")\n",
    "url_api = os.getenv(\"url_api\")\n",
    "path = os.getenv(\"path\")\n",
    "\n",
    "methods_general = ['chart.gettopartists','chart.gettoptracks','chart.gettoptags']\n",
    "methods_user = ['chart.gettopartists','chart.gettoptracks','chart.gettoptags']\n"
   ]
  },
  {
   "cell_type": "code",
   "execution_count": null,
   "metadata": {},
   "outputs": [],
   "source": [
    "r = ex.ExtractGeneral(methods_general[0], url_api, app_api, key_api)\n",
    "\n",
    "artistas = r.json()\n",
    "artistas_exctraction = artistas['artists']['artist']"
   ]
  }
 ],
 "metadata": {
  "kernelspec": {
   "display_name": ".venv",
   "language": "python",
   "name": "python3"
  },
  "language_info": {
   "codemirror_mode": {
    "name": "ipython",
    "version": 3
   },
   "file_extension": ".py",
   "mimetype": "text/x-python",
   "name": "python",
   "nbconvert_exporter": "python",
   "pygments_lexer": "ipython3",
   "version": "3.10.4"
  },
  "orig_nbformat": 4
 },
 "nbformat": 4,
 "nbformat_minor": 2
}
